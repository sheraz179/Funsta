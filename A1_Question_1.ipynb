{
 "cells": [
  {
   "cell_type": "code",
   "execution_count": 1,
   "metadata": {},
   "outputs": [],
   "source": [
    "import numpy as np\n",
    "import pandas as pd"
   ]
  },
  {
   "cell_type": "code",
   "execution_count": 2,
   "metadata": {},
   "outputs": [],
   "source": [
    "measures=pd.read_csv('measurements.csv', names=['x', 'y', 'z'])\n",
    "truths = pd.read_csv('groundtruth.csv', names=['x', 'y', 'z'])"
   ]
  },
  {
   "cell_type": "code",
   "execution_count": 3,
   "metadata": {},
   "outputs": [
    {
     "name": "stdout",
     "output_type": "stream",
     "text": [
      "Matrix A: \n",
      " [[ 9.99389038e-01  3.49017510e-02  1.12915901e-06]\n",
      " [-3.48994183e-02  9.99390665e-01 -3.09984206e-07]\n",
      " [-1.90617420e-05  3.69475621e-06  8.33268359e-01]]\n"
     ]
    }
   ],
   "source": [
    "# it will fit the line using square of least square\n",
    "from sklearn.linear_model import LinearRegression\n",
    "lr = LinearRegression()\n",
    "lr.fit(measures, truths)\n",
    "print('Matrix A: \\n', lr.coef_ )"
   ]
  },
  {
   "cell_type": "code",
   "execution_count": 4,
   "metadata": {},
   "outputs": [
    {
     "name": "stdout",
     "output_type": "stream",
     "text": [
      "b column vector: \n",
      " [-0.18939257  0.30679377 -0.00069183]\n"
     ]
    }
   ],
   "source": [
    "print('b column vector: \\n', lr.intercept_ )"
   ]
  },
  {
   "cell_type": "markdown",
   "metadata": {},
   "source": [
    "<h4> Part b </h4>"
   ]
  },
  {
   "cell_type": "code",
   "execution_count": 5,
   "metadata": {},
   "outputs": [
    {
     "name": "stdout",
     "output_type": "stream",
     "text": [
      "Error after correction:  0.030335501238018352\n"
     ]
    }
   ],
   "source": [
    "# Applying the correction function on measurements\n",
    "corrections = lr.predict(measures)\n",
    "error = np.sum(np.sum(np.power(truths-corrections, 2)))\n",
    "print('Error after correction: ', error)"
   ]
  },
  {
   "cell_type": "markdown",
   "metadata": {},
   "source": [
    "The error is exactly not zero, becuase actually least square minimization offers the best fit line and it is alwasy difficult to obtain the exact mapping becuase of the number of reasons that may include errors in the sensor reading (both human and instrument), sometimes outlier exists too."
   ]
  },
  {
   "cell_type": "markdown",
   "metadata": {},
   "source": [
    "<h4>Part c</h4>"
   ]
  },
  {
   "cell_type": "markdown",
   "metadata": {},
   "source": [
    "Correction is sacler, as we are just multiplying the original values with some scaler value and then adding a value(from b) in it. So, it is just involves scaling the original values. It doesn't involve any kind of axis or rotations at all."
   ]
  },
  {
   "cell_type": "code",
   "execution_count": null,
   "metadata": {},
   "outputs": [],
   "source": []
  }
 ],
 "metadata": {
  "kernelspec": {
   "display_name": "Python 3",
   "language": "python",
   "name": "python3"
  },
  "language_info": {
   "codemirror_mode": {
    "name": "ipython",
    "version": 3
   },
   "file_extension": ".py",
   "mimetype": "text/x-python",
   "name": "python",
   "nbconvert_exporter": "python",
   "pygments_lexer": "ipython3",
   "version": "3.8.5"
  }
 },
 "nbformat": 4,
 "nbformat_minor": 4
}
